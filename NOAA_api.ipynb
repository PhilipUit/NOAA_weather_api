{
 "cells": [
  {
   "cell_type": "markdown",
   "metadata": {},
   "source": [
    "## Assignment/Goal:\n",
    "\"This week's assignment you will be working with NOAAs weather API. This API will allow you to retrieve a variety of data from a specific weather station(s), of your choice.\n",
    "\n",
    "API Documentation: https://www.ncdc.noaa.gov/cdo-web/webservices/v2#gettingStarted\n",
    "\n",
    "## As the API documentation page states, you will need to register for your own credentials. Following the instructions at https://www.ncdc.noaa.gov/cdo-web/token to register.\n",
    "\n",
    "Now we need to determine a weather station that we would like to retrieve our data for. Use the following link to get the id for a NOAA weather station. https://www.ncdc.noaa.gov/cdo-web/datatools/findstation\"\n"
   ]
  },
  {
   "cell_type": "markdown",
   "metadata": {},
   "source": [
    "### Requirements for the assignment\n",
    "Using the NOAA API, retrieve data for a weather station of your choice.  Based on the station you pick, \n",
    "   * Determine an appropriate dataset \n",
    "   * Determine an appropriatedataset type\n",
    "   * Pull at least 3 years worth of data.<br>\n",
    "     Note: if you pick an annual dataset, you will need to pull at least 25 years worth of data.\n",
    "   * Organize your results into a meaningful representation\n",
    "   * Store your result in one of the followinf formats:\n",
    "      - csv file\n",
    "      - json file\n",
    "      - relational database"
   ]
  },
  {
   "cell_type": "markdown",
   "metadata": {},
   "source": [
    "### About the dataset:\n",
    "I choose to use a dataset that is relevant to me. This dataset station ID & info is from the website: https://www.ncdc.noaa.gov/cdo-web/datatools/findstation. \n",
    "\n",
    "I choose to use data from a local Lakewood, Colorado station (station id:GHCND:USC00055402) that is a collection of Max daily temperatures. (TMAX)  Since we need 3 years of data, I pulled daily data from years 2016 - 2018.\n"
   ]
  },
  {
   "cell_type": "markdown",
   "metadata": {},
   "source": [
    "## Setup/Intro: \n",
    "\n",
    "#### Determine an appropriate dataset/Determine an appropriate dataset type -\n",
    "Before starting, we need to make sure that we have an appropriate dataset. We will use data found from a local Lakewood, CO station. We will look at MAX daily temperature data, which is relevant to the the average dataset outlined in the demo, is similar in structure, and is appropriate to work on in this assignment as it is different but similar, intersting to me personally, and also will pull from 3 years of data as outlined spanning from years 2016-2018 found here:https://www.ncdc.noaa.gov/cdo-web/webservices/v2#dataTypes. Since we can only pull 1 year of data at a time, we will pull all 3 years seperately and then will combine them into one master dataframe before we put into a csv to finalize the assignment later on. \n",
    "\n",
    "The dataset type we will be using is MAX daily Temp. from a local NOAA station from years 2016-2018. Again, before starting -- we will need to make sure that we will be able to work on the data once we pull it into a dataframe, or something similar. After investigation, it is determined that this data is in JSON format that we can easily convert to dict, or dictionary format later on. We will use the json.loads(r.text) function with datatypes_dict.keys() function to pull the data in. We will then use the pd.DataFrame() function later on, as we will demonstrate to convert the dict to a dataframe. Now that we know the dataset type, and that we can work with it, as well as knowing that the data is appropriate, we will more forward and will outline our steps/processes as we go."
   ]
  },
  {
   "cell_type": "code",
   "execution_count": 1,
   "metadata": {},
   "outputs": [],
   "source": [
    "#importing package requests\n",
    "import requests #to get info from NOAA site\n",
    "import json # to view the data as this is the dataset type format it comes in and allows us to store in dict "
   ]
  },
  {
   "cell_type": "code",
   "execution_count": 2,
   "metadata": {},
   "outputs": [],
   "source": [
    "# these are my individual token access key for the NOAA API scrapes from  https://www.ncdc.noaa.gov/cdo-web/token to register\n",
    "# my credentials for NOAA API. \n",
    "my_token = 'AURUFnnABXultuNXLbnkzxoTVrNLYuRZ'"
   ]
  },
  {
   "cell_type": "code",
   "execution_count": 3,
   "metadata": {},
   "outputs": [
    {
     "name": "stdout",
     "output_type": "stream",
     "text": [
      "GHCND:USC00055402\n"
     ]
    }
   ],
   "source": [
    "# variables based on my station search -- this is in Lakewood, CO -- we found the station and that is meets the correct dataset type & everything here: https://www.ncdc.noaa.gov/cdo-web/datatools/findstation\n",
    "network = 'GHCND'\n",
    "ID = 'USC00055402'\n",
    "\n",
    "# station_id = network:ID\n",
    "station_id = network + ':' + ID\n",
    "print(station_id)"
   ]
  },
  {
   "cell_type": "code",
   "execution_count": 4,
   "metadata": {},
   "outputs": [],
   "source": [
    "# building the parameter dictionary -- this was outlined in the demo this week -- we puull in our private token using the requests.get() function \n",
    "# 'limit = 1000' --> What does this do? Look at the NOAA API documentation -- we want to follow the guidelines and not abuse the right to access this data, or get cut off from access to the data\n",
    "data = {}\n",
    "data = {'limit':'1000', 'datasetid': network, 'station_id': station_id}\n",
    "\n",
    "# calling NOAA API to get the available datatypes for this specific station\n",
    "r = requests.get('https://www.ncdc.noaa.gov/cdo-web/api/v2/datatypes',params = data, headers = {'token':my_token})"
   ]
  },
  {
   "cell_type": "code",
   "execution_count": 5,
   "metadata": {},
   "outputs": [
    {
     "data": {
      "text/plain": [
       "dict_keys(['metadata', 'results'])"
      ]
     },
     "execution_count": 5,
     "metadata": {},
     "output_type": "execute_result"
    }
   ],
   "source": [
    "#loading json loads as readabke text \n",
    "# JSON to dictionary\n",
    "datatypes_dict = json.loads(r.text)\n",
    "\n",
    "#Here we get the keys for our dictionary with .keys() function\n",
    "# need the keys from this dictionary\n",
    "datatypes_dict.keys()"
   ]
  },
  {
   "cell_type": "code",
   "execution_count": 6,
   "metadata": {},
   "outputs": [
    {
     "data": {
      "text/plain": [
       "[{'mindate': '1994-03-19',\n",
       "  'maxdate': '1996-05-28',\n",
       "  'name': 'Average cloudiness midnight to midnight from 30-second ceilometer data',\n",
       "  'datacoverage': 1,\n",
       "  'id': 'ACMC'}]"
      ]
     },
     "execution_count": 6,
     "metadata": {},
     "output_type": "execute_result"
    }
   ],
   "source": [
    "#checking the first record of data --looks great -- we can move forward and start pulling our desired data -- by YEAR\n",
    "datatypes_dict['results'][:1]"
   ]
  },
  {
   "cell_type": "markdown",
   "metadata": {},
   "source": [
    "Now that we have the data successfully pulling in from the NOAA API source, with the correct station location -- we can start to pull data by the year and by our selected variable Max Temp. in the next steps"
   ]
  },
  {
   "cell_type": "markdown",
   "metadata": {},
   "source": [
    "## 2018 Max temp. data setup:\n",
    "Let's start to pull data from the year 2018. We will pull from station: GHCND:USC00055402 with datetypeid: TMAX from Jan 1. - Dec. 31 in year 2018"
   ]
  },
  {
   "cell_type": "code",
   "execution_count": 7,
   "metadata": {},
   "outputs": [
    {
     "data": {
      "text/plain": [
       "{'limit': '1000',\n",
       " 'datasetid': 'GHCND',\n",
       " 'stationid': 'GHCND:USC00055402',\n",
       " 'datatypeid': 'TMAX',\n",
       " 'startdate': '2018-01-01',\n",
       " 'enddate': '2018-12-31',\n",
       " 'units': 'standard'}"
      ]
     },
     "execution_count": 7,
     "metadata": {},
     "output_type": "execute_result"
    }
   ],
   "source": [
    "#here we set the parameters of our API scrape -- station: GHCND:USC00055402 with datetypeid: TMAX from Jan 1. - Dec. 31 in year 2018\n",
    "data = {}\n",
    "data = {'limit':'1000', 'datasetid': network, 'stationid': station_id}\n",
    "\n",
    "\n",
    "# append additional parameters to data dictionary\n",
    "data.update({'datatypeid': 'TMAX'})\n",
    "data.update({'startdate': '2018-01-01'})\n",
    "data.update({'enddate': '2018-12-31'})\n",
    "data.update({'units':'standard'})\n",
    "data"
   ]
  },
  {
   "cell_type": "code",
   "execution_count": 8,
   "metadata": {},
   "outputs": [],
   "source": [
    "#here is another cell highlighted in the dmeo this week -- this makes the request to get the data from the API site: https://www.ncdc.noaa.gov/cdo-web/api/v2/data\n",
    "# make the request to get our year of data\n",
    "r = requests.get('https://www.ncdc.noaa.gov/cdo-web/api/v2/data',params = data, headers = {'token':my_token})\n",
    "\n",
    "#load the api response as a json\n",
    "max_temp_2018_dict = json.loads(r.text)"
   ]
  },
  {
   "cell_type": "code",
   "execution_count": 9,
   "metadata": {},
   "outputs": [
    {
     "data": {
      "text/plain": [
       "[{'date': '2018-01-01T00:00:00',\n",
       "  'datatype': 'TMAX',\n",
       "  'station': 'GHCND:USC00055402',\n",
       "  'attributes': ',,7,0700',\n",
       "  'value': 27.0},\n",
       " {'date': '2018-01-02T00:00:00',\n",
       "  'datatype': 'TMAX',\n",
       "  'station': 'GHCND:USC00055402',\n",
       "  'attributes': ',,7,0700',\n",
       "  'value': 32.0},\n",
       " {'date': '2018-01-03T00:00:00',\n",
       "  'datatype': 'TMAX',\n",
       "  'station': 'GHCND:USC00055402',\n",
       "  'attributes': ',,7,0700',\n",
       "  'value': 44.0},\n",
       " {'date': '2018-01-04T00:00:00',\n",
       "  'datatype': 'TMAX',\n",
       "  'station': 'GHCND:USC00055402',\n",
       "  'attributes': ',,7,0700',\n",
       "  'value': 53.0},\n",
       " {'date': '2018-01-05T00:00:00',\n",
       "  'datatype': 'TMAX',\n",
       "  'station': 'GHCND:USC00055402',\n",
       "  'attributes': ',,7,0700',\n",
       "  'value': 50.0}]"
      ]
     },
     "execution_count": 9,
     "metadata": {},
     "output_type": "execute_result"
    }
   ],
   "source": [
    "# look at the first record of our data\n",
    "max_temp_2018_dict['results'][:5]"
   ]
  },
  {
   "cell_type": "code",
   "execution_count": 10,
   "metadata": {},
   "outputs": [
    {
     "data": {
      "text/plain": [
       "356"
      ]
     },
     "execution_count": 10,
     "metadata": {},
     "output_type": "execute_result"
    }
   ],
   "source": [
    "# there were 356 days recorded in 2018\n",
    "len(max_temp_2018_dict['results'])"
   ]
  },
  {
   "cell_type": "code",
   "execution_count": 11,
   "metadata": {},
   "outputs": [
    {
     "name": "stdout",
     "output_type": "stream",
     "text": [
      "{'date': '2018-01-01T00:00:00', 'datatype': 'TMAX', 'station': 'GHCND:USC00055402', 'attributes': ',,7,0700', 'value': 27.0}\n",
      "{'date': '2018-12-31T00:00:00', 'datatype': 'TMAX', 'station': 'GHCND:USC00055402', 'attributes': ',,7,0700', 'value': 54.0}\n"
     ]
    }
   ],
   "source": [
    "# look at the first and last day\n",
    "print(max_temp_2018_dict['results'][0])\n",
    "print(max_temp_2018_dict['results'][355])"
   ]
  },
  {
   "cell_type": "markdown",
   "metadata": {},
   "source": [
    "## 2017 Max temp. data setup:\n",
    "pull from station: GHCND:USC00055402 with datetypeid: TMAX from Jan 1. - Dec. 31 in year 2017"
   ]
  },
  {
   "cell_type": "code",
   "execution_count": 12,
   "metadata": {},
   "outputs": [
    {
     "data": {
      "text/plain": [
       "{'limit': '1000',\n",
       " 'datasetid': 'GHCND',\n",
       " 'stationid': 'GHCND:USC00055402',\n",
       " 'datatypeid': 'TMAX',\n",
       " 'startdate': '2017-01-01',\n",
       " 'enddate': '2017-12-31',\n",
       " 'units': 'standard'}"
      ]
     },
     "execution_count": 12,
     "metadata": {},
     "output_type": "execute_result"
    }
   ],
   "source": [
    "#here we set the parameters of our API scrape -- station: GHCND:USC00055402 with datetypeid: TMAX from Jan 1. - Dec. 31 in year 2017\n",
    "data1 = {}\n",
    "data1 = {'limit':'1000', 'datasetid': network, 'stationid': station_id}\n",
    "\n",
    "\n",
    "# append additional parameters to data dictionary\n",
    "data1.update({'datatypeid': 'TMAX'})\n",
    "data1.update({'startdate': '2017-01-01'})\n",
    "data1.update({'enddate': '2017-12-31'})\n",
    "data1.update({'units':'standard'})\n",
    "data1"
   ]
  },
  {
   "cell_type": "code",
   "execution_count": 13,
   "metadata": {},
   "outputs": [],
   "source": [
    "#here is another cell highlighted in the dmeo this week -- this makes the request to get the data from the API site: https://www.ncdc.noaa.gov/cdo-web/api/v2/data\n",
    "# make the request to get our year of data\n",
    "r = requests.get('https://www.ncdc.noaa.gov/cdo-web/api/v2/data',params = data1, headers = {'token':my_token})\n",
    "\n",
    "#load the api response as a json\n",
    "max_temp_2017_dict = json.loads(r.text)"
   ]
  },
  {
   "cell_type": "code",
   "execution_count": 14,
   "metadata": {},
   "outputs": [
    {
     "data": {
      "text/plain": [
       "[{'date': '2017-01-01T00:00:00',\n",
       "  'datatype': 'TMAX',\n",
       "  'station': 'GHCND:USC00055402',\n",
       "  'attributes': ',,7,0700',\n",
       "  'value': 39.0},\n",
       " {'date': '2017-01-02T00:00:00',\n",
       "  'datatype': 'TMAX',\n",
       "  'station': 'GHCND:USC00055402',\n",
       "  'attributes': ',,7,0700',\n",
       "  'value': 49.0},\n",
       " {'date': '2017-01-03T00:00:00',\n",
       "  'datatype': 'TMAX',\n",
       "  'station': 'GHCND:USC00055402',\n",
       "  'attributes': ',,7,0700',\n",
       "  'value': 52.0},\n",
       " {'date': '2017-01-04T00:00:00',\n",
       "  'datatype': 'TMAX',\n",
       "  'station': 'GHCND:USC00055402',\n",
       "  'attributes': ',,7,0700',\n",
       "  'value': 28.0},\n",
       " {'date': '2017-01-05T00:00:00',\n",
       "  'datatype': 'TMAX',\n",
       "  'station': 'GHCND:USC00055402',\n",
       "  'attributes': ',,7,0700',\n",
       "  'value': 14.0}]"
      ]
     },
     "execution_count": 14,
     "metadata": {},
     "output_type": "execute_result"
    }
   ],
   "source": [
    "# look at the first record of our data\n",
    "max_temp_2017_dict['results'][:5]"
   ]
  },
  {
   "cell_type": "code",
   "execution_count": 15,
   "metadata": {},
   "outputs": [
    {
     "data": {
      "text/plain": [
       "361"
      ]
     },
     "execution_count": 15,
     "metadata": {},
     "output_type": "execute_result"
    }
   ],
   "source": [
    "# here were 361 days recorded in 2017\n",
    "len(max_temp_2017_dict['results'])"
   ]
  },
  {
   "cell_type": "code",
   "execution_count": 16,
   "metadata": {},
   "outputs": [
    {
     "name": "stdout",
     "output_type": "stream",
     "text": [
      "{'date': '2018-01-01T00:00:00', 'datatype': 'TMAX', 'station': 'GHCND:USC00055402', 'attributes': ',,7,0700', 'value': 27.0}\n",
      "{'date': '2018-12-31T00:00:00', 'datatype': 'TMAX', 'station': 'GHCND:USC00055402', 'attributes': ',,7,0700', 'value': 54.0}\n"
     ]
    }
   ],
   "source": [
    "# look at the first and last day\n",
    "print(max_temp_2018_dict['results'][0])\n",
    "print(max_temp_2018_dict['results'][355])"
   ]
  },
  {
   "cell_type": "markdown",
   "metadata": {},
   "source": [
    "## 2016 Max temp. data setup:\n",
    "pull from station: GHCND:USC00055402 with datetypeid: TMAX from Jan 1. - Dec. 31 in year 2016"
   ]
  },
  {
   "cell_type": "code",
   "execution_count": 17,
   "metadata": {},
   "outputs": [
    {
     "data": {
      "text/plain": [
       "{'limit': '1000',\n",
       " 'datasetid': 'GHCND',\n",
       " 'stationid': 'GHCND:USC00055402',\n",
       " 'datatypeid': 'TMAX',\n",
       " 'startdate': '2016-01-01',\n",
       " 'enddate': '2016-12-31',\n",
       " 'units': 'standard'}"
      ]
     },
     "execution_count": 17,
     "metadata": {},
     "output_type": "execute_result"
    }
   ],
   "source": [
    "#here we set the parameters of our API scrape -- station: GHCND:USC00055402 with datetypeid: TMAX from Jan 1. - Dec. 31 in year 2016\n",
    "data2 = {}\n",
    "data2 = {'limit':'1000', 'datasetid': network, 'stationid': station_id}\n",
    "\n",
    "\n",
    "# append additional parameters to data dictionary\n",
    "data2.update({'datatypeid': 'TMAX'})\n",
    "data2.update({'startdate': '2016-01-01'})\n",
    "data2.update({'enddate': '2016-12-31'})\n",
    "data2.update({'units':'standard'})\n",
    "data2"
   ]
  },
  {
   "cell_type": "code",
   "execution_count": 18,
   "metadata": {},
   "outputs": [],
   "source": [
    "#here is another cell highlighted in the dmeo this week -- this makes the request to get the data from the API site: https://www.ncdc.noaa.gov/cdo-web/api/v2/data\n",
    "# make the request to get our year of data\n",
    "r = requests.get('https://www.ncdc.noaa.gov/cdo-web/api/v2/data',params = data2, headers = {'token':my_token})\n",
    "\n",
    "#load the api response as a json\n",
    "max_temp_2016_dict = json.loads(r.text)"
   ]
  },
  {
   "cell_type": "code",
   "execution_count": 19,
   "metadata": {},
   "outputs": [
    {
     "data": {
      "text/plain": [
       "[{'date': '2016-01-01T00:00:00',\n",
       "  'datatype': 'TMAX',\n",
       "  'station': 'GHCND:USC00055402',\n",
       "  'attributes': ',,7,0700',\n",
       "  'value': 28.0},\n",
       " {'date': '2016-01-02T00:00:00',\n",
       "  'datatype': 'TMAX',\n",
       "  'station': 'GHCND:USC00055402',\n",
       "  'attributes': ',,7,0700',\n",
       "  'value': 39.0},\n",
       " {'date': '2016-01-03T00:00:00',\n",
       "  'datatype': 'TMAX',\n",
       "  'station': 'GHCND:USC00055402',\n",
       "  'attributes': ',,7,0700',\n",
       "  'value': 45.0},\n",
       " {'date': '2016-01-04T00:00:00',\n",
       "  'datatype': 'TMAX',\n",
       "  'station': 'GHCND:USC00055402',\n",
       "  'attributes': ',,7,0700',\n",
       "  'value': 50.0},\n",
       " {'date': '2016-01-05T00:00:00',\n",
       "  'datatype': 'TMAX',\n",
       "  'station': 'GHCND:USC00055402',\n",
       "  'attributes': ',,7,0700',\n",
       "  'value': 48.0}]"
      ]
     },
     "execution_count": 19,
     "metadata": {},
     "output_type": "execute_result"
    }
   ],
   "source": [
    "# look at the first record of our data\n",
    "max_temp_2016_dict['results'][:5]"
   ]
  },
  {
   "cell_type": "code",
   "execution_count": 20,
   "metadata": {},
   "outputs": [
    {
     "data": {
      "text/plain": [
       "346"
      ]
     },
     "execution_count": 20,
     "metadata": {},
     "output_type": "execute_result"
    }
   ],
   "source": [
    "# there were 346 days in 2016 recorded\n",
    "len(max_temp_2016_dict['results'])"
   ]
  },
  {
   "cell_type": "code",
   "execution_count": 21,
   "metadata": {},
   "outputs": [
    {
     "name": "stdout",
     "output_type": "stream",
     "text": [
      "{'date': '2016-01-01T00:00:00', 'datatype': 'TMAX', 'station': 'GHCND:USC00055402', 'attributes': ',,7,0700', 'value': 28.0}\n",
      "{'date': '2016-12-31T00:00:00', 'datatype': 'TMAX', 'station': 'GHCND:USC00055402', 'attributes': ',,7,0700', 'value': 64.0}\n"
     ]
    }
   ],
   "source": [
    "# look at the first and last day\n",
    "print(max_temp_2016_dict['results'][0])\n",
    "print(max_temp_2016_dict['results'][345])"
   ]
  },
  {
   "cell_type": "markdown",
   "metadata": {},
   "source": [
    "## Putting all data together into pandas dataframes -- 2016-2018 Max Temp. "
   ]
  },
  {
   "cell_type": "code",
   "execution_count": 22,
   "metadata": {},
   "outputs": [],
   "source": [
    "#importing pandas to setup our dataframes and help with our final step of storing data in CSV format\n",
    "import pandas as pd"
   ]
  },
  {
   "cell_type": "code",
   "execution_count": 23,
   "metadata": {},
   "outputs": [
    {
     "data": {
      "text/plain": [
       "dict"
      ]
     },
     "execution_count": 23,
     "metadata": {},
     "output_type": "execute_result"
    }
   ],
   "source": [
    "#double cheking out datatype currently -- it is dict which was pulled originalling in JSON format, as outlined above -- \n",
    "type(max_temp_2016_dict)"
   ]
  },
  {
   "cell_type": "code",
   "execution_count": 24,
   "metadata": {},
   "outputs": [
    {
     "data": {
      "text/html": [
       "<div>\n",
       "<style scoped>\n",
       "    .dataframe tbody tr th:only-of-type {\n",
       "        vertical-align: middle;\n",
       "    }\n",
       "\n",
       "    .dataframe tbody tr th {\n",
       "        vertical-align: top;\n",
       "    }\n",
       "\n",
       "    .dataframe thead th {\n",
       "        text-align: right;\n",
       "    }\n",
       "</style>\n",
       "<table border=\"1\" class=\"dataframe\">\n",
       "  <thead>\n",
       "    <tr style=\"text-align: right;\">\n",
       "      <th></th>\n",
       "      <th>date</th>\n",
       "      <th>datatype</th>\n",
       "      <th>station</th>\n",
       "      <th>attributes</th>\n",
       "      <th>value</th>\n",
       "    </tr>\n",
       "  </thead>\n",
       "  <tbody>\n",
       "    <tr>\n",
       "      <th>0</th>\n",
       "      <td>2018-01-01T00:00:00</td>\n",
       "      <td>TMAX</td>\n",
       "      <td>GHCND:USC00055402</td>\n",
       "      <td>,,7,0700</td>\n",
       "      <td>27.0</td>\n",
       "    </tr>\n",
       "    <tr>\n",
       "      <th>1</th>\n",
       "      <td>2018-01-02T00:00:00</td>\n",
       "      <td>TMAX</td>\n",
       "      <td>GHCND:USC00055402</td>\n",
       "      <td>,,7,0700</td>\n",
       "      <td>32.0</td>\n",
       "    </tr>\n",
       "    <tr>\n",
       "      <th>2</th>\n",
       "      <td>2018-01-03T00:00:00</td>\n",
       "      <td>TMAX</td>\n",
       "      <td>GHCND:USC00055402</td>\n",
       "      <td>,,7,0700</td>\n",
       "      <td>44.0</td>\n",
       "    </tr>\n",
       "    <tr>\n",
       "      <th>3</th>\n",
       "      <td>2018-01-04T00:00:00</td>\n",
       "      <td>TMAX</td>\n",
       "      <td>GHCND:USC00055402</td>\n",
       "      <td>,,7,0700</td>\n",
       "      <td>53.0</td>\n",
       "    </tr>\n",
       "    <tr>\n",
       "      <th>4</th>\n",
       "      <td>2018-01-05T00:00:00</td>\n",
       "      <td>TMAX</td>\n",
       "      <td>GHCND:USC00055402</td>\n",
       "      <td>,,7,0700</td>\n",
       "      <td>50.0</td>\n",
       "    </tr>\n",
       "    <tr>\n",
       "      <th>...</th>\n",
       "      <td>...</td>\n",
       "      <td>...</td>\n",
       "      <td>...</td>\n",
       "      <td>...</td>\n",
       "      <td>...</td>\n",
       "    </tr>\n",
       "    <tr>\n",
       "      <th>351</th>\n",
       "      <td>2018-12-27T00:00:00</td>\n",
       "      <td>TMAX</td>\n",
       "      <td>GHCND:USC00055402</td>\n",
       "      <td>,,7,0700</td>\n",
       "      <td>37.0</td>\n",
       "    </tr>\n",
       "    <tr>\n",
       "      <th>352</th>\n",
       "      <td>2018-12-28T00:00:00</td>\n",
       "      <td>TMAX</td>\n",
       "      <td>GHCND:USC00055402</td>\n",
       "      <td>,,7,0700</td>\n",
       "      <td>29.0</td>\n",
       "    </tr>\n",
       "    <tr>\n",
       "      <th>353</th>\n",
       "      <td>2018-12-29T00:00:00</td>\n",
       "      <td>TMAX</td>\n",
       "      <td>GHCND:USC00055402</td>\n",
       "      <td>,,7,0700</td>\n",
       "      <td>23.0</td>\n",
       "    </tr>\n",
       "    <tr>\n",
       "      <th>354</th>\n",
       "      <td>2018-12-30T00:00:00</td>\n",
       "      <td>TMAX</td>\n",
       "      <td>GHCND:USC00055402</td>\n",
       "      <td>,,7,0700</td>\n",
       "      <td>42.0</td>\n",
       "    </tr>\n",
       "    <tr>\n",
       "      <th>355</th>\n",
       "      <td>2018-12-31T00:00:00</td>\n",
       "      <td>TMAX</td>\n",
       "      <td>GHCND:USC00055402</td>\n",
       "      <td>,,7,0700</td>\n",
       "      <td>54.0</td>\n",
       "    </tr>\n",
       "  </tbody>\n",
       "</table>\n",
       "<p>356 rows × 5 columns</p>\n",
       "</div>"
      ],
      "text/plain": [
       "                    date datatype            station attributes  value\n",
       "0    2018-01-01T00:00:00     TMAX  GHCND:USC00055402   ,,7,0700   27.0\n",
       "1    2018-01-02T00:00:00     TMAX  GHCND:USC00055402   ,,7,0700   32.0\n",
       "2    2018-01-03T00:00:00     TMAX  GHCND:USC00055402   ,,7,0700   44.0\n",
       "3    2018-01-04T00:00:00     TMAX  GHCND:USC00055402   ,,7,0700   53.0\n",
       "4    2018-01-05T00:00:00     TMAX  GHCND:USC00055402   ,,7,0700   50.0\n",
       "..                   ...      ...                ...        ...    ...\n",
       "351  2018-12-27T00:00:00     TMAX  GHCND:USC00055402   ,,7,0700   37.0\n",
       "352  2018-12-28T00:00:00     TMAX  GHCND:USC00055402   ,,7,0700   29.0\n",
       "353  2018-12-29T00:00:00     TMAX  GHCND:USC00055402   ,,7,0700   23.0\n",
       "354  2018-12-30T00:00:00     TMAX  GHCND:USC00055402   ,,7,0700   42.0\n",
       "355  2018-12-31T00:00:00     TMAX  GHCND:USC00055402   ,,7,0700   54.0\n",
       "\n",
       "[356 rows x 5 columns]"
      ]
     },
     "execution_count": 24,
     "metadata": {},
     "output_type": "execute_result"
    }
   ],
   "source": [
    "# pulling 2018 data into its own dataframe & checking that it looks good/all data is there\n",
    "df8 = pd.DataFrame(max_temp_2018_dict['results'])\n",
    "df8"
   ]
  },
  {
   "cell_type": "code",
   "execution_count": 25,
   "metadata": {},
   "outputs": [
    {
     "data": {
      "text/html": [
       "<div>\n",
       "<style scoped>\n",
       "    .dataframe tbody tr th:only-of-type {\n",
       "        vertical-align: middle;\n",
       "    }\n",
       "\n",
       "    .dataframe tbody tr th {\n",
       "        vertical-align: top;\n",
       "    }\n",
       "\n",
       "    .dataframe thead th {\n",
       "        text-align: right;\n",
       "    }\n",
       "</style>\n",
       "<table border=\"1\" class=\"dataframe\">\n",
       "  <thead>\n",
       "    <tr style=\"text-align: right;\">\n",
       "      <th></th>\n",
       "      <th>date</th>\n",
       "      <th>datatype</th>\n",
       "      <th>station</th>\n",
       "      <th>attributes</th>\n",
       "      <th>value</th>\n",
       "    </tr>\n",
       "  </thead>\n",
       "  <tbody>\n",
       "    <tr>\n",
       "      <th>0</th>\n",
       "      <td>2017-01-01T00:00:00</td>\n",
       "      <td>TMAX</td>\n",
       "      <td>GHCND:USC00055402</td>\n",
       "      <td>,,7,0700</td>\n",
       "      <td>39.0</td>\n",
       "    </tr>\n",
       "    <tr>\n",
       "      <th>1</th>\n",
       "      <td>2017-01-02T00:00:00</td>\n",
       "      <td>TMAX</td>\n",
       "      <td>GHCND:USC00055402</td>\n",
       "      <td>,,7,0700</td>\n",
       "      <td>49.0</td>\n",
       "    </tr>\n",
       "    <tr>\n",
       "      <th>2</th>\n",
       "      <td>2017-01-03T00:00:00</td>\n",
       "      <td>TMAX</td>\n",
       "      <td>GHCND:USC00055402</td>\n",
       "      <td>,,7,0700</td>\n",
       "      <td>52.0</td>\n",
       "    </tr>\n",
       "    <tr>\n",
       "      <th>3</th>\n",
       "      <td>2017-01-04T00:00:00</td>\n",
       "      <td>TMAX</td>\n",
       "      <td>GHCND:USC00055402</td>\n",
       "      <td>,,7,0700</td>\n",
       "      <td>28.0</td>\n",
       "    </tr>\n",
       "    <tr>\n",
       "      <th>4</th>\n",
       "      <td>2017-01-05T00:00:00</td>\n",
       "      <td>TMAX</td>\n",
       "      <td>GHCND:USC00055402</td>\n",
       "      <td>,,7,0700</td>\n",
       "      <td>14.0</td>\n",
       "    </tr>\n",
       "    <tr>\n",
       "      <th>...</th>\n",
       "      <td>...</td>\n",
       "      <td>...</td>\n",
       "      <td>...</td>\n",
       "      <td>...</td>\n",
       "      <td>...</td>\n",
       "    </tr>\n",
       "    <tr>\n",
       "      <th>356</th>\n",
       "      <td>2017-12-27T00:00:00</td>\n",
       "      <td>TMAX</td>\n",
       "      <td>GHCND:USC00055402</td>\n",
       "      <td>,,7,0700</td>\n",
       "      <td>14.0</td>\n",
       "    </tr>\n",
       "    <tr>\n",
       "      <th>357</th>\n",
       "      <td>2017-12-28T00:00:00</td>\n",
       "      <td>TMAX</td>\n",
       "      <td>GHCND:USC00055402</td>\n",
       "      <td>,,7,0700</td>\n",
       "      <td>54.0</td>\n",
       "    </tr>\n",
       "    <tr>\n",
       "      <th>358</th>\n",
       "      <td>2017-12-29T00:00:00</td>\n",
       "      <td>TMAX</td>\n",
       "      <td>GHCND:USC00055402</td>\n",
       "      <td>,,7,0700</td>\n",
       "      <td>55.0</td>\n",
       "    </tr>\n",
       "    <tr>\n",
       "      <th>359</th>\n",
       "      <td>2017-12-30T00:00:00</td>\n",
       "      <td>TMAX</td>\n",
       "      <td>GHCND:USC00055402</td>\n",
       "      <td>,,7,0700</td>\n",
       "      <td>62.0</td>\n",
       "    </tr>\n",
       "    <tr>\n",
       "      <th>360</th>\n",
       "      <td>2017-12-31T00:00:00</td>\n",
       "      <td>TMAX</td>\n",
       "      <td>GHCND:USC00055402</td>\n",
       "      <td>,,7,0700</td>\n",
       "      <td>60.0</td>\n",
       "    </tr>\n",
       "  </tbody>\n",
       "</table>\n",
       "<p>361 rows × 5 columns</p>\n",
       "</div>"
      ],
      "text/plain": [
       "                    date datatype            station attributes  value\n",
       "0    2017-01-01T00:00:00     TMAX  GHCND:USC00055402   ,,7,0700   39.0\n",
       "1    2017-01-02T00:00:00     TMAX  GHCND:USC00055402   ,,7,0700   49.0\n",
       "2    2017-01-03T00:00:00     TMAX  GHCND:USC00055402   ,,7,0700   52.0\n",
       "3    2017-01-04T00:00:00     TMAX  GHCND:USC00055402   ,,7,0700   28.0\n",
       "4    2017-01-05T00:00:00     TMAX  GHCND:USC00055402   ,,7,0700   14.0\n",
       "..                   ...      ...                ...        ...    ...\n",
       "356  2017-12-27T00:00:00     TMAX  GHCND:USC00055402   ,,7,0700   14.0\n",
       "357  2017-12-28T00:00:00     TMAX  GHCND:USC00055402   ,,7,0700   54.0\n",
       "358  2017-12-29T00:00:00     TMAX  GHCND:USC00055402   ,,7,0700   55.0\n",
       "359  2017-12-30T00:00:00     TMAX  GHCND:USC00055402   ,,7,0700   62.0\n",
       "360  2017-12-31T00:00:00     TMAX  GHCND:USC00055402   ,,7,0700   60.0\n",
       "\n",
       "[361 rows x 5 columns]"
      ]
     },
     "execution_count": 25,
     "metadata": {},
     "output_type": "execute_result"
    }
   ],
   "source": [
    "# pulling 2017 data into its own dataframe & checking that it looks good/all data is there\n",
    "df7 = pd.DataFrame(max_temp_2017_dict['results'])\n",
    "df7"
   ]
  },
  {
   "cell_type": "code",
   "execution_count": 26,
   "metadata": {},
   "outputs": [
    {
     "data": {
      "text/html": [
       "<div>\n",
       "<style scoped>\n",
       "    .dataframe tbody tr th:only-of-type {\n",
       "        vertical-align: middle;\n",
       "    }\n",
       "\n",
       "    .dataframe tbody tr th {\n",
       "        vertical-align: top;\n",
       "    }\n",
       "\n",
       "    .dataframe thead th {\n",
       "        text-align: right;\n",
       "    }\n",
       "</style>\n",
       "<table border=\"1\" class=\"dataframe\">\n",
       "  <thead>\n",
       "    <tr style=\"text-align: right;\">\n",
       "      <th></th>\n",
       "      <th>date</th>\n",
       "      <th>datatype</th>\n",
       "      <th>station</th>\n",
       "      <th>attributes</th>\n",
       "      <th>value</th>\n",
       "    </tr>\n",
       "  </thead>\n",
       "  <tbody>\n",
       "    <tr>\n",
       "      <th>0</th>\n",
       "      <td>2016-01-01T00:00:00</td>\n",
       "      <td>TMAX</td>\n",
       "      <td>GHCND:USC00055402</td>\n",
       "      <td>,,7,0700</td>\n",
       "      <td>28.0</td>\n",
       "    </tr>\n",
       "    <tr>\n",
       "      <th>1</th>\n",
       "      <td>2016-01-02T00:00:00</td>\n",
       "      <td>TMAX</td>\n",
       "      <td>GHCND:USC00055402</td>\n",
       "      <td>,,7,0700</td>\n",
       "      <td>39.0</td>\n",
       "    </tr>\n",
       "    <tr>\n",
       "      <th>2</th>\n",
       "      <td>2016-01-03T00:00:00</td>\n",
       "      <td>TMAX</td>\n",
       "      <td>GHCND:USC00055402</td>\n",
       "      <td>,,7,0700</td>\n",
       "      <td>45.0</td>\n",
       "    </tr>\n",
       "    <tr>\n",
       "      <th>3</th>\n",
       "      <td>2016-01-04T00:00:00</td>\n",
       "      <td>TMAX</td>\n",
       "      <td>GHCND:USC00055402</td>\n",
       "      <td>,,7,0700</td>\n",
       "      <td>50.0</td>\n",
       "    </tr>\n",
       "    <tr>\n",
       "      <th>4</th>\n",
       "      <td>2016-01-05T00:00:00</td>\n",
       "      <td>TMAX</td>\n",
       "      <td>GHCND:USC00055402</td>\n",
       "      <td>,,7,0700</td>\n",
       "      <td>48.0</td>\n",
       "    </tr>\n",
       "    <tr>\n",
       "      <th>...</th>\n",
       "      <td>...</td>\n",
       "      <td>...</td>\n",
       "      <td>...</td>\n",
       "      <td>...</td>\n",
       "      <td>...</td>\n",
       "    </tr>\n",
       "    <tr>\n",
       "      <th>341</th>\n",
       "      <td>2016-12-27T00:00:00</td>\n",
       "      <td>TMAX</td>\n",
       "      <td>GHCND:USC00055402</td>\n",
       "      <td>,,7,0700</td>\n",
       "      <td>42.0</td>\n",
       "    </tr>\n",
       "    <tr>\n",
       "      <th>342</th>\n",
       "      <td>2016-12-28T00:00:00</td>\n",
       "      <td>TMAX</td>\n",
       "      <td>GHCND:USC00055402</td>\n",
       "      <td>,,7,0700</td>\n",
       "      <td>54.0</td>\n",
       "    </tr>\n",
       "    <tr>\n",
       "      <th>343</th>\n",
       "      <td>2016-12-29T00:00:00</td>\n",
       "      <td>TMAX</td>\n",
       "      <td>GHCND:USC00055402</td>\n",
       "      <td>,,7,0700</td>\n",
       "      <td>51.0</td>\n",
       "    </tr>\n",
       "    <tr>\n",
       "      <th>344</th>\n",
       "      <td>2016-12-30T00:00:00</td>\n",
       "      <td>TMAX</td>\n",
       "      <td>GHCND:USC00055402</td>\n",
       "      <td>,,7,0700</td>\n",
       "      <td>50.0</td>\n",
       "    </tr>\n",
       "    <tr>\n",
       "      <th>345</th>\n",
       "      <td>2016-12-31T00:00:00</td>\n",
       "      <td>TMAX</td>\n",
       "      <td>GHCND:USC00055402</td>\n",
       "      <td>,,7,0700</td>\n",
       "      <td>64.0</td>\n",
       "    </tr>\n",
       "  </tbody>\n",
       "</table>\n",
       "<p>346 rows × 5 columns</p>\n",
       "</div>"
      ],
      "text/plain": [
       "                    date datatype            station attributes  value\n",
       "0    2016-01-01T00:00:00     TMAX  GHCND:USC00055402   ,,7,0700   28.0\n",
       "1    2016-01-02T00:00:00     TMAX  GHCND:USC00055402   ,,7,0700   39.0\n",
       "2    2016-01-03T00:00:00     TMAX  GHCND:USC00055402   ,,7,0700   45.0\n",
       "3    2016-01-04T00:00:00     TMAX  GHCND:USC00055402   ,,7,0700   50.0\n",
       "4    2016-01-05T00:00:00     TMAX  GHCND:USC00055402   ,,7,0700   48.0\n",
       "..                   ...      ...                ...        ...    ...\n",
       "341  2016-12-27T00:00:00     TMAX  GHCND:USC00055402   ,,7,0700   42.0\n",
       "342  2016-12-28T00:00:00     TMAX  GHCND:USC00055402   ,,7,0700   54.0\n",
       "343  2016-12-29T00:00:00     TMAX  GHCND:USC00055402   ,,7,0700   51.0\n",
       "344  2016-12-30T00:00:00     TMAX  GHCND:USC00055402   ,,7,0700   50.0\n",
       "345  2016-12-31T00:00:00     TMAX  GHCND:USC00055402   ,,7,0700   64.0\n",
       "\n",
       "[346 rows x 5 columns]"
      ]
     },
     "execution_count": 26,
     "metadata": {},
     "output_type": "execute_result"
    }
   ],
   "source": [
    "# pulling 2016 data into its own dataframe & checking that it looks good/all data is there\n",
    "df6 = pd.DataFrame(max_temp_2016_dict['results'])\n",
    "df6"
   ]
  },
  {
   "cell_type": "markdown",
   "metadata": {},
   "source": [
    "## Combine seperate 2016-2018 dfs into 1 master data frame & convert 'date' column into date_time dtype:"
   ]
  },
  {
   "cell_type": "code",
   "execution_count": 27,
   "metadata": {},
   "outputs": [],
   "source": [
    "#listing 3 dfs into 'frames' variable that we will use to concat dfs together \n",
    "# https://pandas.pydata.org/pandas-docs/stable/user_guide/merging.html\n",
    "frames = [df6, df7, df8]"
   ]
  },
  {
   "cell_type": "code",
   "execution_count": 28,
   "metadata": {},
   "outputs": [
    {
     "data": {
      "text/html": [
       "<div>\n",
       "<style scoped>\n",
       "    .dataframe tbody tr th:only-of-type {\n",
       "        vertical-align: middle;\n",
       "    }\n",
       "\n",
       "    .dataframe tbody tr th {\n",
       "        vertical-align: top;\n",
       "    }\n",
       "\n",
       "    .dataframe thead th {\n",
       "        text-align: right;\n",
       "    }\n",
       "</style>\n",
       "<table border=\"1\" class=\"dataframe\">\n",
       "  <thead>\n",
       "    <tr style=\"text-align: right;\">\n",
       "      <th></th>\n",
       "      <th>date</th>\n",
       "      <th>datatype</th>\n",
       "      <th>station</th>\n",
       "      <th>attributes</th>\n",
       "      <th>value</th>\n",
       "    </tr>\n",
       "  </thead>\n",
       "  <tbody>\n",
       "    <tr>\n",
       "      <th>0</th>\n",
       "      <td>2016-01-01T00:00:00</td>\n",
       "      <td>TMAX</td>\n",
       "      <td>GHCND:USC00055402</td>\n",
       "      <td>,,7,0700</td>\n",
       "      <td>28.0</td>\n",
       "    </tr>\n",
       "    <tr>\n",
       "      <th>1</th>\n",
       "      <td>2016-01-02T00:00:00</td>\n",
       "      <td>TMAX</td>\n",
       "      <td>GHCND:USC00055402</td>\n",
       "      <td>,,7,0700</td>\n",
       "      <td>39.0</td>\n",
       "    </tr>\n",
       "    <tr>\n",
       "      <th>2</th>\n",
       "      <td>2016-01-03T00:00:00</td>\n",
       "      <td>TMAX</td>\n",
       "      <td>GHCND:USC00055402</td>\n",
       "      <td>,,7,0700</td>\n",
       "      <td>45.0</td>\n",
       "    </tr>\n",
       "    <tr>\n",
       "      <th>3</th>\n",
       "      <td>2016-01-04T00:00:00</td>\n",
       "      <td>TMAX</td>\n",
       "      <td>GHCND:USC00055402</td>\n",
       "      <td>,,7,0700</td>\n",
       "      <td>50.0</td>\n",
       "    </tr>\n",
       "    <tr>\n",
       "      <th>4</th>\n",
       "      <td>2016-01-05T00:00:00</td>\n",
       "      <td>TMAX</td>\n",
       "      <td>GHCND:USC00055402</td>\n",
       "      <td>,,7,0700</td>\n",
       "      <td>48.0</td>\n",
       "    </tr>\n",
       "    <tr>\n",
       "      <th>...</th>\n",
       "      <td>...</td>\n",
       "      <td>...</td>\n",
       "      <td>...</td>\n",
       "      <td>...</td>\n",
       "      <td>...</td>\n",
       "    </tr>\n",
       "    <tr>\n",
       "      <th>351</th>\n",
       "      <td>2018-12-27T00:00:00</td>\n",
       "      <td>TMAX</td>\n",
       "      <td>GHCND:USC00055402</td>\n",
       "      <td>,,7,0700</td>\n",
       "      <td>37.0</td>\n",
       "    </tr>\n",
       "    <tr>\n",
       "      <th>352</th>\n",
       "      <td>2018-12-28T00:00:00</td>\n",
       "      <td>TMAX</td>\n",
       "      <td>GHCND:USC00055402</td>\n",
       "      <td>,,7,0700</td>\n",
       "      <td>29.0</td>\n",
       "    </tr>\n",
       "    <tr>\n",
       "      <th>353</th>\n",
       "      <td>2018-12-29T00:00:00</td>\n",
       "      <td>TMAX</td>\n",
       "      <td>GHCND:USC00055402</td>\n",
       "      <td>,,7,0700</td>\n",
       "      <td>23.0</td>\n",
       "    </tr>\n",
       "    <tr>\n",
       "      <th>354</th>\n",
       "      <td>2018-12-30T00:00:00</td>\n",
       "      <td>TMAX</td>\n",
       "      <td>GHCND:USC00055402</td>\n",
       "      <td>,,7,0700</td>\n",
       "      <td>42.0</td>\n",
       "    </tr>\n",
       "    <tr>\n",
       "      <th>355</th>\n",
       "      <td>2018-12-31T00:00:00</td>\n",
       "      <td>TMAX</td>\n",
       "      <td>GHCND:USC00055402</td>\n",
       "      <td>,,7,0700</td>\n",
       "      <td>54.0</td>\n",
       "    </tr>\n",
       "  </tbody>\n",
       "</table>\n",
       "<p>1063 rows × 5 columns</p>\n",
       "</div>"
      ],
      "text/plain": [
       "                    date datatype            station attributes  value\n",
       "0    2016-01-01T00:00:00     TMAX  GHCND:USC00055402   ,,7,0700   28.0\n",
       "1    2016-01-02T00:00:00     TMAX  GHCND:USC00055402   ,,7,0700   39.0\n",
       "2    2016-01-03T00:00:00     TMAX  GHCND:USC00055402   ,,7,0700   45.0\n",
       "3    2016-01-04T00:00:00     TMAX  GHCND:USC00055402   ,,7,0700   50.0\n",
       "4    2016-01-05T00:00:00     TMAX  GHCND:USC00055402   ,,7,0700   48.0\n",
       "..                   ...      ...                ...        ...    ...\n",
       "351  2018-12-27T00:00:00     TMAX  GHCND:USC00055402   ,,7,0700   37.0\n",
       "352  2018-12-28T00:00:00     TMAX  GHCND:USC00055402   ,,7,0700   29.0\n",
       "353  2018-12-29T00:00:00     TMAX  GHCND:USC00055402   ,,7,0700   23.0\n",
       "354  2018-12-30T00:00:00     TMAX  GHCND:USC00055402   ,,7,0700   42.0\n",
       "355  2018-12-31T00:00:00     TMAX  GHCND:USC00055402   ,,7,0700   54.0\n",
       "\n",
       "[1063 rows x 5 columns]"
      ]
     },
     "execution_count": 28,
     "metadata": {},
     "output_type": "execute_result"
    }
   ],
   "source": [
    "#concatinating 2016 - 2018 data (3 seperate dfs) into 1 master dataframe stacked together\n",
    "df = pd.concat(frames)\n",
    "df"
   ]
  },
  {
   "cell_type": "code",
   "execution_count": 29,
   "metadata": {},
   "outputs": [
    {
     "name": "stdout",
     "output_type": "stream",
     "text": [
      "<class 'pandas.core.frame.DataFrame'>\n",
      "Int64Index: 1063 entries, 0 to 355\n",
      "Data columns (total 5 columns):\n",
      " #   Column      Non-Null Count  Dtype  \n",
      "---  ------      --------------  -----  \n",
      " 0   date        1063 non-null   object \n",
      " 1   datatype    1063 non-null   object \n",
      " 2   station     1063 non-null   object \n",
      " 3   attributes  1063 non-null   object \n",
      " 4   value       1063 non-null   float64\n",
      "dtypes: float64(1), object(4)\n",
      "memory usage: 49.8+ KB\n"
     ]
    }
   ],
   "source": [
    "#checking class types of dataframes -- we see 'date' column is not in date_time format -- this can be problemnatic later on, so we will change that now while it is easy\n",
    "df.info()"
   ]
  },
  {
   "cell_type": "code",
   "execution_count": 30,
   "metadata": {},
   "outputs": [],
   "source": [
    "#converting 'date' column into datetime64[ns] for dtype that will be easier to work with in the future\n",
    "df['date'] = pd.to_datetime(df['date'])"
   ]
  },
  {
   "cell_type": "code",
   "execution_count": 31,
   "metadata": {},
   "outputs": [
    {
     "name": "stdout",
     "output_type": "stream",
     "text": [
      "<class 'pandas.core.frame.DataFrame'>\n",
      "Int64Index: 1063 entries, 0 to 355\n",
      "Data columns (total 5 columns):\n",
      " #   Column      Non-Null Count  Dtype         \n",
      "---  ------      --------------  -----         \n",
      " 0   date        1063 non-null   datetime64[ns]\n",
      " 1   datatype    1063 non-null   object        \n",
      " 2   station     1063 non-null   object        \n",
      " 3   attributes  1063 non-null   object        \n",
      " 4   value       1063 non-null   float64       \n",
      "dtypes: datetime64[ns](1), float64(1), object(3)\n",
      "memory usage: 49.8+ KB\n"
     ]
    }
   ],
   "source": [
    "#checking the new datetime type for 'date' column -- looks great\n",
    "df.info()"
   ]
  },
  {
   "cell_type": "code",
   "execution_count": 32,
   "metadata": {},
   "outputs": [
    {
     "data": {
      "text/html": [
       "<div>\n",
       "<style scoped>\n",
       "    .dataframe tbody tr th:only-of-type {\n",
       "        vertical-align: middle;\n",
       "    }\n",
       "\n",
       "    .dataframe tbody tr th {\n",
       "        vertical-align: top;\n",
       "    }\n",
       "\n",
       "    .dataframe thead th {\n",
       "        text-align: right;\n",
       "    }\n",
       "</style>\n",
       "<table border=\"1\" class=\"dataframe\">\n",
       "  <thead>\n",
       "    <tr style=\"text-align: right;\">\n",
       "      <th></th>\n",
       "      <th>value</th>\n",
       "    </tr>\n",
       "  </thead>\n",
       "  <tbody>\n",
       "    <tr>\n",
       "      <th>count</th>\n",
       "      <td>1063.000000</td>\n",
       "    </tr>\n",
       "    <tr>\n",
       "      <th>mean</th>\n",
       "      <td>65.872060</td>\n",
       "    </tr>\n",
       "    <tr>\n",
       "      <th>std</th>\n",
       "      <td>17.998812</td>\n",
       "    </tr>\n",
       "    <tr>\n",
       "      <th>min</th>\n",
       "      <td>4.000000</td>\n",
       "    </tr>\n",
       "    <tr>\n",
       "      <th>25%</th>\n",
       "      <td>53.000000</td>\n",
       "    </tr>\n",
       "    <tr>\n",
       "      <th>50%</th>\n",
       "      <td>66.000000</td>\n",
       "    </tr>\n",
       "    <tr>\n",
       "      <th>75%</th>\n",
       "      <td>81.000000</td>\n",
       "    </tr>\n",
       "    <tr>\n",
       "      <th>max</th>\n",
       "      <td>100.000000</td>\n",
       "    </tr>\n",
       "  </tbody>\n",
       "</table>\n",
       "</div>"
      ],
      "text/plain": [
       "             value\n",
       "count  1063.000000\n",
       "mean     65.872060\n",
       "std      17.998812\n",
       "min       4.000000\n",
       "25%      53.000000\n",
       "50%      66.000000\n",
       "75%      81.000000\n",
       "max     100.000000"
      ]
     },
     "execution_count": 32,
     "metadata": {},
     "output_type": "execute_result"
    }
   ],
   "source": [
    "#quick summary of the data values statistics -- we can see con see some valuable info that can be investigated much farther such as:\n",
    "# low temp = 4 degrees\n",
    "# High temp = 100 degrees\n",
    "# AVG high temp was 65.87 degrees \n",
    "\n",
    "df.describe()"
   ]
  },
  {
   "cell_type": "markdown",
   "metadata": {},
   "source": [
    "## Converting final dateframe with all date (2016-2018 daily MAX temp. in Lakewood, CO) into CSV file "
   ]
  },
  {
   "cell_type": "code",
   "execution_count": 33,
   "metadata": {},
   "outputs": [],
   "source": [
    "df.to_csv('MaxTemp_16.17.18.csv')"
   ]
  },
  {
   "cell_type": "code",
   "execution_count": null,
   "metadata": {},
   "outputs": [],
   "source": []
  },
  {
   "cell_type": "markdown",
   "metadata": {},
   "source": [
    "## Summary/ Conclusion\n",
    "In Conclusion, we were able to pull 3 years of MAX temp. daily data from a local Lakewood, CO NOAA API retreive site using our private access token generated. We successfully were able to pull MAX temp. data from years 2016-2018 using the requests & json functions. The dataset was originally in JSON format, that was pulled using the get.requests() function and read using the json.r() function to pull our data into dictionary format in the IDE. With this data pulled using our private token to access the get API requests, we were able to pull 3 years of data and store them seperately in their own dict results. Using pandas, we were then able to convert the json/dict results format into pandas dataframes using the pd.DataFrame(dict_results) function. We then were able to concat the 3 years of Max temp data into one master dataframe using the concat(frames) function that stacked the data into one master stacked dataframe. Once we generated this master dataframe table, we then were able to store the final dataset of 3 years of Max temp. data from Lakewood, CO into a completed, finalized CSV file as a meaningful representration of our data. This csv file is attached, and will also generate a new CSV file everytime the program is run. We can suceessfully say we met all requirement to this assignment, as the data is all together in a meaningful representation with the appropriate dataset/types selected, 3 years of data, organized, gave a quick summary of findings, and also stored in CSV format as requested. With this data cleaned and pulled together, it should be setup for much more advanced analysis if needed :)"
   ]
  },
  {
   "cell_type": "code",
   "execution_count": null,
   "metadata": {},
   "outputs": [],
   "source": []
  },
  {
   "cell_type": "code",
   "execution_count": null,
   "metadata": {},
   "outputs": [],
   "source": []
  }
 ],
 "metadata": {
  "kernelspec": {
   "display_name": "Python 3",
   "language": "python",
   "name": "python3"
  },
  "language_info": {
   "codemirror_mode": {
    "name": "ipython",
    "version": 3
   },
   "file_extension": ".py",
   "mimetype": "text/x-python",
   "name": "python",
   "nbconvert_exporter": "python",
   "pygments_lexer": "ipython3",
   "version": "3.7.6"
  }
 },
 "nbformat": 4,
 "nbformat_minor": 4
}
